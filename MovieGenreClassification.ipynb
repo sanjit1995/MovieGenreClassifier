{
  "nbformat": 4,
  "nbformat_minor": 0,
  "metadata": {
    "colab": {
      "name": "MovieGenreClassification.ipynb",
      "provenance": [],
      "mount_file_id": "1En_V6UDxrSPGUmNXBbPX1CP4Q_N_Igpx",
      "authorship_tag": "ABX9TyOuNpneb2C7k8gvjKFeBv5G",
      "include_colab_link": true
    },
    "kernelspec": {
      "name": "python3",
      "display_name": "Python 3"
    },
    "accelerator": "GPU"
  },
  "cells": [
    {
      "cell_type": "markdown",
      "metadata": {
        "id": "view-in-github",
        "colab_type": "text"
      },
      "source": [
        "<a href=\"https://colab.research.google.com/github/sanjit1995/MovieGenreClassifier/blob/master/MovieGenreClassification.ipynb\" target=\"_parent\"><img src=\"https://colab.research.google.com/assets/colab-badge.svg\" alt=\"Open In Colab\"/></a>"
      ]
    },
    {
      "cell_type": "code",
      "metadata": {
        "id": "qTHFfHAbJLwI",
        "colab_type": "code",
        "colab": {}
      },
      "source": [
        "import nltk"
      ],
      "execution_count": null,
      "outputs": []
    },
    {
      "cell_type": "code",
      "metadata": {
        "id": "lToAzOpO1RbY",
        "colab_type": "code",
        "colab": {}
      },
      "source": [
        "import pandas as pd\n",
        "import numpy as np"
      ],
      "execution_count": null,
      "outputs": []
    },
    {
      "cell_type": "code",
      "metadata": {
        "id": "0A3mjHM92Iyw",
        "colab_type": "code",
        "colab": {}
      },
      "source": [
        "df = pd.read_csv('/content/drive/My Drive/Colab Notebooks/data/MovieGenreClassification/combinedFromTmdbForNLP.csv')"
      ],
      "execution_count": null,
      "outputs": []
    },
    {
      "cell_type": "code",
      "metadata": {
        "id": "ZaVB4iD_uz_Y",
        "colab_type": "code",
        "colab": {}
      },
      "source": [
        "df = df.drop(['Unnamed: 0'], axis=1)"
      ],
      "execution_count": null,
      "outputs": []
    },
    {
      "cell_type": "code",
      "metadata": {
        "id": "aq55GVBSxHII",
        "colab_type": "code",
        "colab": {
          "base_uri": "https://localhost:8080/",
          "height": 119
        },
        "outputId": "b505293f-0063-42c2-a1af-dfc6012f1c8e"
      },
      "source": [
        "df.isnull().sum()"
      ],
      "execution_count": null,
      "outputs": [
        {
          "output_type": "execute_result",
          "data": {
            "text/plain": [
              "index          0\n",
              "genres         0\n",
              "overview       0\n",
              "genre_ids      0\n",
              "genre_names    0\n",
              "dtype: int64"
            ]
          },
          "metadata": {
            "tags": []
          },
          "execution_count": 87
        }
      ]
    },
    {
      "cell_type": "code",
      "metadata": {
        "id": "8nCFdUklxL9C",
        "colab_type": "code",
        "colab": {}
      },
      "source": [
        "df = df.dropna(how='any')\n",
        "df = df.reset_index()\n",
        "df = df.drop(['index'], axis=1)"
      ],
      "execution_count": null,
      "outputs": []
    },
    {
      "cell_type": "code",
      "metadata": {
        "id": "TcuaJTjRosms",
        "colab_type": "code",
        "colab": {}
      },
      "source": [
        "genres_df = df['genres']"
      ],
      "execution_count": null,
      "outputs": []
    },
    {
      "cell_type": "code",
      "metadata": {
        "id": "6l2JzZS7o47C",
        "colab_type": "code",
        "colab": {}
      },
      "source": [
        "ind = 0\n",
        "for temp_genres in genres_df:\n",
        "  genre_ids = []\n",
        "  genre_names = []\n",
        "  print(temp_genres)\n",
        "  genres = eval(temp_genres)\n",
        "  for i in range (0, len(genres)):\n",
        "    genre_ids.append(str(genres[i]['id']))\n",
        "    genre_names.append(genres[i]['name'])\n",
        "  df.at[ind,'genre_ids'] = ','.join(map(str, genre_ids))\n",
        "  df.at[ind,'genre_names'] = \",\".join(genre_names)\n",
        "  ind += 1"
      ],
      "execution_count": null,
      "outputs": []
    },
    {
      "cell_type": "code",
      "metadata": {
        "id": "isll3mPEwSS8",
        "colab_type": "code",
        "colab": {}
      },
      "source": [
        "df"
      ],
      "execution_count": null,
      "outputs": []
    },
    {
      "cell_type": "code",
      "metadata": {
        "id": "iUCJRY87uqj5",
        "colab_type": "code",
        "colab": {
          "base_uri": "https://localhost:8080/",
          "height": 34
        },
        "outputId": "4ed09e86-0187-4320-87a6-2a482df2fdd4"
      },
      "source": [
        "df.columns"
      ],
      "execution_count": null,
      "outputs": [
        {
          "output_type": "execute_result",
          "data": {
            "text/plain": [
              "Index(['genres', 'overview', 'genre_ids', 'genre_names'], dtype='object')"
            ]
          },
          "metadata": {
            "tags": []
          },
          "execution_count": 90
        }
      ]
    },
    {
      "cell_type": "code",
      "metadata": {
        "id": "_4nT1Xpy2ZdF",
        "colab_type": "code",
        "colab": {}
      },
      "source": [
        "train_data = df.reset_index()[['overview','genre_names']]\n",
        "train_data.columns = ['summary', 'genres']"
      ],
      "execution_count": null,
      "outputs": []
    },
    {
      "cell_type": "code",
      "metadata": {
        "id": "PJjmLdrP22OZ",
        "colab_type": "code",
        "colab": {
          "base_uri": "https://localhost:8080/",
          "height": 419
        },
        "outputId": "139c88be-687b-45f8-cf86-d626f977e207"
      },
      "source": [
        "train_data"
      ],
      "execution_count": null,
      "outputs": [
        {
          "output_type": "execute_result",
          "data": {
            "text/html": [
              "<div>\n",
              "<style scoped>\n",
              "    .dataframe tbody tr th:only-of-type {\n",
              "        vertical-align: middle;\n",
              "    }\n",
              "\n",
              "    .dataframe tbody tr th {\n",
              "        vertical-align: top;\n",
              "    }\n",
              "\n",
              "    .dataframe thead th {\n",
              "        text-align: right;\n",
              "    }\n",
              "</style>\n",
              "<table border=\"1\" class=\"dataframe\">\n",
              "  <thead>\n",
              "    <tr style=\"text-align: right;\">\n",
              "      <th></th>\n",
              "      <th>summary</th>\n",
              "      <th>genres</th>\n",
              "    </tr>\n",
              "  </thead>\n",
              "  <tbody>\n",
              "    <tr>\n",
              "      <th>0</th>\n",
              "      <td>When Lou, who has become the \"father of the In...</td>\n",
              "      <td>Comedy</td>\n",
              "    </tr>\n",
              "    <tr>\n",
              "      <th>1</th>\n",
              "      <td>Mia Thermopolis is now a college graduate and ...</td>\n",
              "      <td>Comedy,Drama,Family,Romance</td>\n",
              "    </tr>\n",
              "    <tr>\n",
              "      <th>2</th>\n",
              "      <td>Under the direction of a ruthless instructor, ...</td>\n",
              "      <td>Drama</td>\n",
              "    </tr>\n",
              "    <tr>\n",
              "      <th>3</th>\n",
              "      <td>Vidya Bagchi (Vidya Balan) arrives in Kolkata ...</td>\n",
              "      <td>Thriller,Drama</td>\n",
              "    </tr>\n",
              "    <tr>\n",
              "      <th>4</th>\n",
              "      <td>Marine Boy is the story of a former national s...</td>\n",
              "      <td>Action,Thriller</td>\n",
              "    </tr>\n",
              "    <tr>\n",
              "      <th>...</th>\n",
              "      <td>...</td>\n",
              "      <td>...</td>\n",
              "    </tr>\n",
              "    <tr>\n",
              "      <th>7350</th>\n",
              "      <td>A young man is plunged into a life of subterfu...</td>\n",
              "      <td>Thriller</td>\n",
              "    </tr>\n",
              "    <tr>\n",
              "      <th>7351</th>\n",
              "      <td>Three friends, whose lives have been drifting ...</td>\n",
              "      <td>Action,Adventure,Comedy,Thriller</td>\n",
              "    </tr>\n",
              "    <tr>\n",
              "      <th>7352</th>\n",
              "      <td>Frank Galvin is a down-on-his luck lawyer, red...</td>\n",
              "      <td>Drama</td>\n",
              "    </tr>\n",
              "    <tr>\n",
              "      <th>7353</th>\n",
              "      <td>For 19-year-old Jay, fall should be about scho...</td>\n",
              "      <td>Horror,Thriller</td>\n",
              "    </tr>\n",
              "    <tr>\n",
              "      <th>7354</th>\n",
              "      <td>Twelve episodic tales in the life of a Parisia...</td>\n",
              "      <td>Drama</td>\n",
              "    </tr>\n",
              "  </tbody>\n",
              "</table>\n",
              "<p>7355 rows × 2 columns</p>\n",
              "</div>"
            ],
            "text/plain": [
              "                                                summary                            genres\n",
              "0     When Lou, who has become the \"father of the In...                            Comedy\n",
              "1     Mia Thermopolis is now a college graduate and ...       Comedy,Drama,Family,Romance\n",
              "2     Under the direction of a ruthless instructor, ...                             Drama\n",
              "3     Vidya Bagchi (Vidya Balan) arrives in Kolkata ...                    Thriller,Drama\n",
              "4     Marine Boy is the story of a former national s...                   Action,Thriller\n",
              "...                                                 ...                               ...\n",
              "7350  A young man is plunged into a life of subterfu...                          Thriller\n",
              "7351  Three friends, whose lives have been drifting ...  Action,Adventure,Comedy,Thriller\n",
              "7352  Frank Galvin is a down-on-his luck lawyer, red...                             Drama\n",
              "7353  For 19-year-old Jay, fall should be about scho...                   Horror,Thriller\n",
              "7354  Twelve episodic tales in the life of a Parisia...                             Drama\n",
              "\n",
              "[7355 rows x 2 columns]"
            ]
          },
          "metadata": {
            "tags": []
          },
          "execution_count": 94
        }
      ]
    },
    {
      "cell_type": "code",
      "metadata": {
        "id": "xbRdxMFj47k2",
        "colab_type": "code",
        "colab": {}
      },
      "source": [
        "train_data.isnull().sum()"
      ],
      "execution_count": null,
      "outputs": []
    },
    {
      "cell_type": "code",
      "metadata": {
        "id": "UXMC6VEj5Bwt",
        "colab_type": "code",
        "colab": {}
      },
      "source": [
        "train_data['genres'] = train_data['genres'].str.replace(r'|', ',')\n",
        "train_data['genres'] = train_data['genres'].str.replace(r'\\\\N', '')"
      ],
      "execution_count": null,
      "outputs": []
    },
    {
      "cell_type": "code",
      "metadata": {
        "id": "boBtzLuL5U_f",
        "colab_type": "code",
        "colab": {}
      },
      "source": [
        "train_data"
      ],
      "execution_count": null,
      "outputs": []
    },
    {
      "cell_type": "code",
      "metadata": {
        "id": "o7IoxVGf28wX",
        "colab_type": "code",
        "colab": {}
      },
      "source": [
        "x_train = train_data[['summary']]\n",
        "y_train = train_data['genres'].tolist()"
      ],
      "execution_count": null,
      "outputs": []
    },
    {
      "cell_type": "code",
      "metadata": {
        "id": "pV2UfjmwBgUj",
        "colab_type": "code",
        "colab": {
          "base_uri": "https://localhost:8080/",
          "height": 34
        },
        "outputId": "444b4512-58c0-4b18-bf9d-81c13a28caa6"
      },
      "source": [
        "x_train.shape"
      ],
      "execution_count": null,
      "outputs": [
        {
          "output_type": "execute_result",
          "data": {
            "text/plain": [
              "(7355, 1)"
            ]
          },
          "metadata": {
            "tags": []
          },
          "execution_count": 97
        }
      ]
    },
    {
      "cell_type": "code",
      "metadata": {
        "id": "-23qef_-4jGM",
        "colab_type": "code",
        "colab": {
          "base_uri": "https://localhost:8080/",
          "height": 34
        },
        "outputId": "7d1de410-b431-4843-9795-bfc7d4bb5c9d"
      },
      "source": [
        "y_train[0]"
      ],
      "execution_count": null,
      "outputs": [
        {
          "output_type": "execute_result",
          "data": {
            "text/plain": [
              "'Comedy'"
            ]
          },
          "metadata": {
            "tags": []
          },
          "execution_count": 98
        }
      ]
    },
    {
      "cell_type": "markdown",
      "metadata": {
        "id": "aZViWs7tClX5",
        "colab_type": "text"
      },
      "source": [
        "get count of each genre"
      ]
    },
    {
      "cell_type": "code",
      "metadata": {
        "id": "lMAG8bsZAK12",
        "colab_type": "code",
        "colab": {}
      },
      "source": [
        "list_temp = []\n",
        "genres_count = {}\n",
        "for elem in y_train:\n",
        "  temp_list = []\n",
        "  temp_list = str(elem).split(',')\n",
        "  for genre in temp_list:\n",
        "    genres_count.setdefault(genre,0)\n",
        "    genres_count[genre] += 1\n",
        "genres_count"
      ],
      "execution_count": null,
      "outputs": []
    },
    {
      "cell_type": "code",
      "metadata": {
        "id": "NOLytjXkB1Cs",
        "colab_type": "code",
        "colab": {}
      },
      "source": [
        "genres_count"
      ],
      "execution_count": null,
      "outputs": []
    },
    {
      "cell_type": "code",
      "metadata": {
        "id": "vkyCj_hxAR4m",
        "colab_type": "code",
        "colab": {}
      },
      "source": [
        "list_temp"
      ],
      "execution_count": null,
      "outputs": []
    },
    {
      "cell_type": "code",
      "metadata": {
        "id": "tW59cgoa8bJl",
        "colab_type": "code",
        "colab": {}
      },
      "source": [
        "y_list = []\n",
        "for elem in y_train:\n",
        "  temp_list = []\n",
        "  temp_list = str(elem).split(',')\n",
        "  y_list.append(temp_list)"
      ],
      "execution_count": null,
      "outputs": []
    },
    {
      "cell_type": "code",
      "metadata": {
        "id": "JH6J-zLA5_5v",
        "colab_type": "code",
        "colab": {}
      },
      "source": [
        "from sklearn.preprocessing import MultiLabelBinarizer\n",
        "one_hot = MultiLabelBinarizer()\n",
        "y_list = one_hot.fit_transform(y_list)"
      ],
      "execution_count": null,
      "outputs": []
    },
    {
      "cell_type": "code",
      "metadata": {
        "id": "fZkvcFqn52aC",
        "colab_type": "code",
        "colab": {
          "base_uri": "https://localhost:8080/",
          "height": 85
        },
        "outputId": "d8464fd8-89c0-4797-a4a8-db8c07d6e3cd"
      },
      "source": [
        "one_hot.classes_"
      ],
      "execution_count": null,
      "outputs": [
        {
          "output_type": "execute_result",
          "data": {
            "text/plain": [
              "array(['Action', 'Adventure', 'Animation', 'Comedy', 'Crime',\n",
              "       'Documentary', 'Drama', 'Family', 'Fantasy', 'Foreign', 'History',\n",
              "       'Horror', 'Music', 'Mystery', 'Romance', 'Science Fiction',\n",
              "       'TV Movie', 'Thriller', 'War', 'Western'], dtype=object)"
            ]
          },
          "metadata": {
            "tags": []
          },
          "execution_count": 222
        }
      ]
    },
    {
      "cell_type": "code",
      "metadata": {
        "id": "ZoZdJAFg7ZZB",
        "colab_type": "code",
        "colab": {
          "base_uri": "https://localhost:8080/",
          "height": 34
        },
        "outputId": "52915c3e-91bb-41ce-f1de-6120dcd64a9b"
      },
      "source": [
        "len(y_list)"
      ],
      "execution_count": null,
      "outputs": [
        {
          "output_type": "execute_result",
          "data": {
            "text/plain": [
              "7355"
            ]
          },
          "metadata": {
            "tags": []
          },
          "execution_count": 104
        }
      ]
    },
    {
      "cell_type": "code",
      "metadata": {
        "id": "LDDSsfHzb1fD",
        "colab_type": "code",
        "colab": {}
      },
      "source": [
        "y_list.value_counts()"
      ],
      "execution_count": null,
      "outputs": []
    },
    {
      "cell_type": "code",
      "metadata": {
        "id": "gUDTvXGG-Sak",
        "colab_type": "code",
        "colab": {}
      },
      "source": [
        "import re\n",
        "x_train['filtered_summary'] = x_train['summary'].str.replace(r'http\\S+', '', regex=True).replace(r'www\\S+', '', regex=True).replace(r'pic.\\S+', '', regex=True).replace(r'photos.app\\S+', '', regex=True).replace(r'twitter.com\\S+', '', regex=True)\n",
        "x_train['filtered_summary'] = x_train['filtered_summary'].map(lambda x: re.sub(r'[^A-Za-z\\s\\#\\-\\']+', '', x))\n",
        "x_train['filtered_summary'] = x_train['filtered_summary'].str.replace(r'\\(.*\\)','')"
      ],
      "execution_count": null,
      "outputs": []
    },
    {
      "cell_type": "code",
      "metadata": {
        "id": "ifr_JLIdI6CQ",
        "colab_type": "code",
        "colab": {}
      },
      "source": [
        "import nltk\n",
        "nltk.download('stopwords')\n",
        "from nltk.corpus import stopwords\n",
        "stop_words = set(stopwords.words('english'))\n",
        "\n",
        "# function to remove stopwords\n",
        "def remove_stopwords(text):\n",
        "    no_stopword_text = [w for w in text.split() if not w in stop_words]\n",
        "    return ' '.join(no_stopword_text)\n",
        "\n",
        "x_train['final_summary'] = x_train['filtered_summary'].apply(lambda x: remove_stopwords(x))"
      ],
      "execution_count": null,
      "outputs": []
    },
    {
      "cell_type": "code",
      "metadata": {
        "id": "Fc-jgxynC92X",
        "colab_type": "code",
        "colab": {}
      },
      "source": [
        "x_train"
      ],
      "execution_count": null,
      "outputs": []
    },
    {
      "cell_type": "code",
      "metadata": {
        "id": "Fa_MFsjzJjy1",
        "colab_type": "code",
        "colab": {}
      },
      "source": [
        "y_list"
      ],
      "execution_count": null,
      "outputs": []
    },
    {
      "cell_type": "code",
      "metadata": {
        "id": "3jebwh3WDXaZ",
        "colab_type": "code",
        "colab": {}
      },
      "source": [
        "from sklearn.feature_extraction.text import TfidfVectorizer\n",
        "tfidf_vectorizer = TfidfVectorizer(\n",
        "    min_df=1,  # min count for relevant vocabulary\n",
        "    max_features=15000,  # maximum number of features\n",
        "    # by their corresponding  ASCII char\n",
        "    lowercase=True,\n",
        "    analyzer='word',  # features made of words\n",
        "    ngram_range=(1, 3),  # features made of a single tokens\n",
        "    use_idf=True,  # enable inverse-document-frequency reweighting\n",
        "    smooth_idf=True,  # prevents zero division for unseen words\n",
        "    sublinear_tf=False)\n",
        "\n",
        "tfidf_df = tfidf_vectorizer.fit_transform(x_train['final_summary'])"
      ],
      "execution_count": null,
      "outputs": []
    },
    {
      "cell_type": "code",
      "metadata": {
        "id": "Re68eq43EYJk",
        "colab_type": "code",
        "colab": {
          "base_uri": "https://localhost:8080/",
          "height": 34
        },
        "outputId": "0b308a9a-4baa-4248-aeb0-4e7320c997f9"
      },
      "source": [
        "tfidf_df.shape"
      ],
      "execution_count": null,
      "outputs": [
        {
          "output_type": "execute_result",
          "data": {
            "text/plain": [
              "(7355, 15000)"
            ]
          },
          "metadata": {
            "tags": []
          },
          "execution_count": 287
        }
      ]
    },
    {
      "cell_type": "code",
      "metadata": {
        "id": "ML9s_xYDEbFt",
        "colab_type": "code",
        "colab": {
          "base_uri": "https://localhost:8080/",
          "height": 34
        },
        "outputId": "2e351cc1-9792-4246-cb47-1a692bbb51e5"
      },
      "source": [
        "y_list.shape"
      ],
      "execution_count": null,
      "outputs": [
        {
          "output_type": "execute_result",
          "data": {
            "text/plain": [
              "(7355, 20)"
            ]
          },
          "metadata": {
            "tags": []
          },
          "execution_count": 288
        }
      ]
    },
    {
      "cell_type": "code",
      "metadata": {
        "id": "tStSq7biFPwP",
        "colab_type": "code",
        "colab": {
          "base_uri": "https://localhost:8080/",
          "height": 68
        },
        "outputId": "6c3df152-0978-4009-979e-748221a30588"
      },
      "source": [
        "from sklearn.neighbors import KNeighborsClassifier\n",
        "classifier = KNeighborsClassifier()\n",
        "classifier.fit(tfidf_df, y_list)"
      ],
      "execution_count": null,
      "outputs": [
        {
          "output_type": "execute_result",
          "data": {
            "text/plain": [
              "KNeighborsClassifier(algorithm='auto', leaf_size=30, metric='minkowski',\n",
              "                     metric_params=None, n_jobs=None, n_neighbors=5, p=2,\n",
              "                     weights='uniform')"
            ]
          },
          "metadata": {
            "tags": []
          },
          "execution_count": 199
        }
      ]
    },
    {
      "cell_type": "code",
      "metadata": {
        "id": "N2j6-VbIDEHZ",
        "colab_type": "code",
        "colab": {
          "base_uri": "https://localhost:8080/",
          "height": 207
        },
        "outputId": "cea0664f-9dc5-4f80-a847-f6edec2ecc38"
      },
      "source": [
        "from sklearn.neural_network import MLPClassifier\n",
        "classifier = MLPClassifier()\n",
        "classifier.fit(tfidf_df, y_list)"
      ],
      "execution_count": null,
      "outputs": [
        {
          "output_type": "stream",
          "text": [
            "/usr/local/lib/python3.6/dist-packages/sklearn/neural_network/_multilayer_perceptron.py:571: ConvergenceWarning: Stochastic Optimizer: Maximum iterations (200) reached and the optimization hasn't converged yet.\n",
            "  % self.max_iter, ConvergenceWarning)\n"
          ],
          "name": "stderr"
        },
        {
          "output_type": "execute_result",
          "data": {
            "text/plain": [
              "MLPClassifier(activation='relu', alpha=0.0001, batch_size='auto', beta_1=0.9,\n",
              "              beta_2=0.999, early_stopping=False, epsilon=1e-08,\n",
              "              hidden_layer_sizes=(100,), learning_rate='constant',\n",
              "              learning_rate_init=0.001, max_fun=15000, max_iter=200,\n",
              "              momentum=0.9, n_iter_no_change=10, nesterovs_momentum=True,\n",
              "              power_t=0.5, random_state=None, shuffle=True, solver='adam',\n",
              "              tol=0.0001, validation_fraction=0.1, verbose=False,\n",
              "              warm_start=False)"
            ]
          },
          "metadata": {
            "tags": []
          },
          "execution_count": 265
        }
      ]
    },
    {
      "cell_type": "code",
      "metadata": {
        "id": "pPhKZVo2Hxzn",
        "colab_type": "code",
        "colab": {
          "base_uri": "https://localhost:8080/",
          "height": 187
        },
        "outputId": "9e2efe2d-cfe0-4686-9fb6-1eaedc53ba7f"
      },
      "source": [
        "from sklearn.linear_model import LogisticRegression\n",
        "from sklearn.multiclass import OneVsRestClassifier\n",
        "classifier = OneVsRestClassifier(LogisticRegression())\n",
        "classifier.fit(tfidf_df, y_list)"
      ],
      "execution_count": null,
      "outputs": [
        {
          "output_type": "execute_result",
          "data": {
            "text/plain": [
              "OneVsRestClassifier(estimator=LogisticRegression(C=1.0, class_weight=None,\n",
              "                                                 dual=False, fit_intercept=True,\n",
              "                                                 intercept_scaling=1,\n",
              "                                                 l1_ratio=None, max_iter=100,\n",
              "                                                 multi_class='auto',\n",
              "                                                 n_jobs=None, penalty='l2',\n",
              "                                                 random_state=None,\n",
              "                                                 solver='lbfgs', tol=0.0001,\n",
              "                                                 verbose=0, warm_start=False),\n",
              "                    n_jobs=None)"
            ]
          },
          "metadata": {
            "tags": []
          },
          "execution_count": 289
        }
      ]
    },
    {
      "cell_type": "code",
      "metadata": {
        "id": "9E0Nq9eaGjxg",
        "colab_type": "code",
        "colab": {
          "base_uri": "https://localhost:8080/",
          "height": 34
        },
        "outputId": "ef7899b3-ef9c-4f7e-f296-fc5fddb71c6d"
      },
      "source": [
        "test_string = {\"Chhatrapati Shivaji's fight war right-hand man, braveheart Subhedar Tanhaji Malusare, pits his sharp acumen against the brawn of ruthless and hedonistic Mughal chieftain Udaybhan Singh Rathore to recapture Kondhana for the Maratha empire.\"}\n",
        "test = tfidf_vectorizer.transform(test_string)\n",
        "one_hot.inverse_transform(classifier.predict(test))"
      ],
      "execution_count": null,
      "outputs": [
        {
          "output_type": "execute_result",
          "data": {
            "text/plain": [
              "[('Action',)]"
            ]
          },
          "metadata": {
            "tags": []
          },
          "execution_count": 292
        }
      ]
    },
    {
      "cell_type": "code",
      "metadata": {
        "id": "W3jxmiDNaSSK",
        "colab_type": "code",
        "colab": {
          "base_uri": "https://localhost:8080/",
          "height": 51
        },
        "outputId": "24c40615-0d6e-410b-b45b-41b61b30e5e1"
      },
      "source": [
        "test"
      ],
      "execution_count": null,
      "outputs": [
        {
          "output_type": "execute_result",
          "data": {
            "text/plain": [
              "<1x10000 sparse matrix of type '<class 'numpy.float64'>'\n",
              "\twith 37 stored elements in Compressed Sparse Row format>"
            ]
          },
          "metadata": {
            "tags": []
          },
          "execution_count": 219
        }
      ]
    },
    {
      "cell_type": "code",
      "metadata": {
        "id": "tm_4dzPMDnJa",
        "colab_type": "code",
        "colab": {
          "base_uri": "https://localhost:8080/",
          "height": 34
        },
        "outputId": "3e5930a5-1937-4a11-dda0-d4dbd8e17e26"
      },
      "source": [
        "tfidf_vectorizer.get_feature_names()"
      ],
      "execution_count": null,
      "outputs": [
        {
          "output_type": "execute_result",
          "data": {
            "text/plain": [
              "'abandoned'"
            ]
          },
          "metadata": {
            "tags": []
          },
          "execution_count": 165
        }
      ]
    },
    {
      "cell_type": "code",
      "metadata": {
        "id": "vgKlspuD9lmj",
        "colab_type": "code",
        "colab": {}
      },
      "source": [
        "for i in tfidf_vectorizer.get_feature_names():\n",
        "  print(i)\n",
        "  if i == 'the':\n",
        "    break"
      ],
      "execution_count": null,
      "outputs": []
    },
    {
      "cell_type": "code",
      "metadata": {
        "id": "KhOWW0_NGuFm",
        "colab_type": "code",
        "colab": {
          "base_uri": "https://localhost:8080/",
          "height": 51
        },
        "outputId": "b47a6597-eb18-45b8-f97e-25abc10d7016"
      },
      "source": [
        "tfidf_df[42]"
      ],
      "execution_count": null,
      "outputs": [
        {
          "output_type": "execute_result",
          "data": {
            "text/plain": [
              "<1x5000 sparse matrix of type '<class 'numpy.float64'>'\n",
              "\twith 51 stored elements in Compressed Sparse Row format>"
            ]
          },
          "metadata": {
            "tags": []
          },
          "execution_count": 114
        }
      ]
    },
    {
      "cell_type": "code",
      "metadata": {
        "id": "RT40fqDEFuCq",
        "colab_type": "code",
        "colab": {
          "base_uri": "https://localhost:8080/",
          "height": 34
        },
        "outputId": "5e0a0964-1887-4937-a2a8-0b8a25ef88a0"
      },
      "source": [
        "classifier.predict(tfidf_df[41])"
      ],
      "execution_count": null,
      "outputs": [
        {
          "output_type": "execute_result",
          "data": {
            "text/plain": [
              "array([[1, 0, 0, 0, 0, 0, 1, 0, 0, 0, 0, 0, 0, 0, 0, 0, 0, 0, 0, 0]])"
            ]
          },
          "metadata": {
            "tags": []
          },
          "execution_count": 146
        }
      ]
    },
    {
      "cell_type": "code",
      "metadata": {
        "id": "-toICKvfTc5d",
        "colab_type": "code",
        "colab": {
          "base_uri": "https://localhost:8080/",
          "height": 34
        },
        "outputId": "c7e2bcb4-692b-49ed-e119-90c09fe49307"
      },
      "source": [
        "classifier.predict(test)"
      ],
      "execution_count": null,
      "outputs": [
        {
          "output_type": "execute_result",
          "data": {
            "text/plain": [
              "array([[0, 0, 0, 0, 0, 0, 0, 0, 0, 0, 0, 0, 0, 0, 0, 0, 0, 0, 0, 0]])"
            ]
          },
          "metadata": {
            "tags": []
          },
          "execution_count": 119
        }
      ]
    },
    {
      "cell_type": "code",
      "metadata": {
        "id": "G4W0FrdxG9ut",
        "colab_type": "code",
        "colab": {
          "base_uri": "https://localhost:8080/",
          "height": 34
        },
        "outputId": "5bcda40b-ed60-4616-e11f-0af1e4ff0c71"
      },
      "source": [
        "list(one_hot.inverse_transform(classifier.predict(tfidf_df[41])))"
      ],
      "execution_count": null,
      "outputs": [
        {
          "output_type": "execute_result",
          "data": {
            "text/plain": [
              "[('Action', 'Drama')]"
            ]
          },
          "metadata": {
            "tags": []
          },
          "execution_count": 176
        }
      ]
    },
    {
      "cell_type": "code",
      "metadata": {
        "id": "al5zkg-PTXra",
        "colab_type": "code",
        "colab": {
          "base_uri": "https://localhost:8080/",
          "height": 34
        },
        "outputId": "40a50570-3ee8-4fca-9877-8544ec6f414e"
      },
      "source": [
        "one_hot.inverse_transform(classifier.predict(test))"
      ],
      "execution_count": null,
      "outputs": [
        {
          "output_type": "execute_result",
          "data": {
            "text/plain": [
              "[()]"
            ]
          },
          "metadata": {
            "tags": []
          },
          "execution_count": 137
        }
      ]
    },
    {
      "cell_type": "code",
      "metadata": {
        "id": "SRFnVwh-IZ7z",
        "colab_type": "code",
        "colab": {}
      },
      "source": [
        "df.iloc[41][['genres','title']]"
      ],
      "execution_count": null,
      "outputs": []
    }
  ]
}